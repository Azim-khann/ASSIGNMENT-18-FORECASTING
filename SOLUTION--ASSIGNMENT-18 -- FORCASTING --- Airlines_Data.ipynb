{
 "cells": [
  {
   "cell_type": "markdown",
   "id": "46165a9a",
   "metadata": {},
   "source": [
    "<IMG SRC =excelrlogo.png/>"
   ]
  },
  {
   "cell_type": "markdown",
   "id": "acada9d4",
   "metadata": {},
   "source": [
    "### ASSIGNMENT-18 -- FORECASTING ---Airlines_Data"
   ]
  },
  {
   "cell_type": "markdown",
   "id": "2f695133",
   "metadata": {},
   "source": [
    "#### PROBLEM STATEMENT"
   ]
  },
  {
   "cell_type": "markdown",
   "id": "19c39ef0",
   "metadata": {},
   "source": [
    "Forecast the CocaCola prices and Airlines Passengers data set. Prepare a document for each model explaining \n",
    "how many dummy variables you have created and RMSE value for each model. Finally which model you will use for \n",
    "Forecasting."
   ]
  },
  {
   "cell_type": "markdown",
   "id": "b66a6d86",
   "metadata": {},
   "source": [
    "#### LIBRARIES"
   ]
  },
  {
   "cell_type": "code",
   "execution_count": 2,
   "id": "eaeac13a",
   "metadata": {},
   "outputs": [],
   "source": [
    "import numpy as np\n",
    "import pandas as pd"
   ]
  },
  {
   "cell_type": "code",
   "execution_count": 4,
   "id": "143e469d",
   "metadata": {},
   "outputs": [
    {
     "data": {
      "text/html": [
       "<div>\n",
       "<style scoped>\n",
       "    .dataframe tbody tr th:only-of-type {\n",
       "        vertical-align: middle;\n",
       "    }\n",
       "\n",
       "    .dataframe tbody tr th {\n",
       "        vertical-align: top;\n",
       "    }\n",
       "\n",
       "    .dataframe thead th {\n",
       "        text-align: right;\n",
       "    }\n",
       "</style>\n",
       "<table border=\"1\" class=\"dataframe\">\n",
       "  <thead>\n",
       "    <tr style=\"text-align: right;\">\n",
       "      <th></th>\n",
       "      <th>Month</th>\n",
       "      <th>Passengers</th>\n",
       "    </tr>\n",
       "  </thead>\n",
       "  <tbody>\n",
       "    <tr>\n",
       "      <th>0</th>\n",
       "      <td>1995-01-01</td>\n",
       "      <td>112</td>\n",
       "    </tr>\n",
       "    <tr>\n",
       "      <th>1</th>\n",
       "      <td>1995-02-01</td>\n",
       "      <td>118</td>\n",
       "    </tr>\n",
       "    <tr>\n",
       "      <th>2</th>\n",
       "      <td>1995-03-01</td>\n",
       "      <td>132</td>\n",
       "    </tr>\n",
       "    <tr>\n",
       "      <th>3</th>\n",
       "      <td>1995-04-01</td>\n",
       "      <td>129</td>\n",
       "    </tr>\n",
       "    <tr>\n",
       "      <th>4</th>\n",
       "      <td>1995-05-01</td>\n",
       "      <td>121</td>\n",
       "    </tr>\n",
       "    <tr>\n",
       "      <th>...</th>\n",
       "      <td>...</td>\n",
       "      <td>...</td>\n",
       "    </tr>\n",
       "    <tr>\n",
       "      <th>91</th>\n",
       "      <td>2002-08-01</td>\n",
       "      <td>405</td>\n",
       "    </tr>\n",
       "    <tr>\n",
       "      <th>92</th>\n",
       "      <td>2002-09-01</td>\n",
       "      <td>355</td>\n",
       "    </tr>\n",
       "    <tr>\n",
       "      <th>93</th>\n",
       "      <td>2002-10-01</td>\n",
       "      <td>306</td>\n",
       "    </tr>\n",
       "    <tr>\n",
       "      <th>94</th>\n",
       "      <td>2002-11-01</td>\n",
       "      <td>271</td>\n",
       "    </tr>\n",
       "    <tr>\n",
       "      <th>95</th>\n",
       "      <td>2002-12-01</td>\n",
       "      <td>306</td>\n",
       "    </tr>\n",
       "  </tbody>\n",
       "</table>\n",
       "<p>96 rows × 2 columns</p>\n",
       "</div>"
      ],
      "text/plain": [
       "        Month  Passengers\n",
       "0  1995-01-01         112\n",
       "1  1995-02-01         118\n",
       "2  1995-03-01         132\n",
       "3  1995-04-01         129\n",
       "4  1995-05-01         121\n",
       "..        ...         ...\n",
       "91 2002-08-01         405\n",
       "92 2002-09-01         355\n",
       "93 2002-10-01         306\n",
       "94 2002-11-01         271\n",
       "95 2002-12-01         306\n",
       "\n",
       "[96 rows x 2 columns]"
      ]
     },
     "execution_count": 4,
     "metadata": {},
     "output_type": "execute_result"
    }
   ],
   "source": [
    "Airlines_Data = pd.read_excel(\"Airlines_Data.xlsx\")\n",
    "Airlines_Data"
   ]
  },
  {
   "cell_type": "markdown",
   "id": "404802ea",
   "metadata": {},
   "source": [
    "#### TAKE THE BASIC INFORMATION FROM THE DATA"
   ]
  },
  {
   "cell_type": "code",
   "execution_count": 5,
   "id": "fd611243",
   "metadata": {},
   "outputs": [
    {
     "name": "stdout",
     "output_type": "stream",
     "text": [
      "<class 'pandas.core.frame.DataFrame'>\n",
      "RangeIndex: 96 entries, 0 to 95\n",
      "Data columns (total 2 columns):\n",
      " #   Column      Non-Null Count  Dtype         \n",
      "---  ------      --------------  -----         \n",
      " 0   Month       96 non-null     datetime64[ns]\n",
      " 1   Passengers  96 non-null     int64         \n",
      "dtypes: datetime64[ns](1), int64(1)\n",
      "memory usage: 1.6 KB\n"
     ]
    }
   ],
   "source": [
    "Airlines_Data.info()"
   ]
  },
  {
   "cell_type": "code",
   "execution_count": 6,
   "id": "acc48080",
   "metadata": {},
   "outputs": [
    {
     "data": {
      "text/html": [
       "<div>\n",
       "<style scoped>\n",
       "    .dataframe tbody tr th:only-of-type {\n",
       "        vertical-align: middle;\n",
       "    }\n",
       "\n",
       "    .dataframe tbody tr th {\n",
       "        vertical-align: top;\n",
       "    }\n",
       "\n",
       "    .dataframe thead th {\n",
       "        text-align: right;\n",
       "    }\n",
       "</style>\n",
       "<table border=\"1\" class=\"dataframe\">\n",
       "  <thead>\n",
       "    <tr style=\"text-align: right;\">\n",
       "      <th></th>\n",
       "      <th>Passengers</th>\n",
       "    </tr>\n",
       "  </thead>\n",
       "  <tbody>\n",
       "    <tr>\n",
       "      <th>count</th>\n",
       "      <td>96.000000</td>\n",
       "    </tr>\n",
       "    <tr>\n",
       "      <th>mean</th>\n",
       "      <td>213.708333</td>\n",
       "    </tr>\n",
       "    <tr>\n",
       "      <th>std</th>\n",
       "      <td>71.918216</td>\n",
       "    </tr>\n",
       "    <tr>\n",
       "      <th>min</th>\n",
       "      <td>104.000000</td>\n",
       "    </tr>\n",
       "    <tr>\n",
       "      <th>25%</th>\n",
       "      <td>156.000000</td>\n",
       "    </tr>\n",
       "    <tr>\n",
       "      <th>50%</th>\n",
       "      <td>200.000000</td>\n",
       "    </tr>\n",
       "    <tr>\n",
       "      <th>75%</th>\n",
       "      <td>264.750000</td>\n",
       "    </tr>\n",
       "    <tr>\n",
       "      <th>max</th>\n",
       "      <td>413.000000</td>\n",
       "    </tr>\n",
       "  </tbody>\n",
       "</table>\n",
       "</div>"
      ],
      "text/plain": [
       "       Passengers\n",
       "count   96.000000\n",
       "mean   213.708333\n",
       "std     71.918216\n",
       "min    104.000000\n",
       "25%    156.000000\n",
       "50%    200.000000\n",
       "75%    264.750000\n",
       "max    413.000000"
      ]
     },
     "execution_count": 6,
     "metadata": {},
     "output_type": "execute_result"
    }
   ],
   "source": [
    "Airlines_Data.describe()"
   ]
  },
  {
   "cell_type": "code",
   "execution_count": 7,
   "id": "439e8573",
   "metadata": {},
   "outputs": [
    {
     "data": {
      "text/plain": [
       "(96, 2)"
      ]
     },
     "execution_count": 7,
     "metadata": {},
     "output_type": "execute_result"
    }
   ],
   "source": [
    "Airlines_Data.shape"
   ]
  },
  {
   "cell_type": "code",
   "execution_count": 8,
   "id": "5505dee1",
   "metadata": {},
   "outputs": [
    {
     "data": {
      "text/html": [
       "<div>\n",
       "<style scoped>\n",
       "    .dataframe tbody tr th:only-of-type {\n",
       "        vertical-align: middle;\n",
       "    }\n",
       "\n",
       "    .dataframe tbody tr th {\n",
       "        vertical-align: top;\n",
       "    }\n",
       "\n",
       "    .dataframe thead th {\n",
       "        text-align: right;\n",
       "    }\n",
       "</style>\n",
       "<table border=\"1\" class=\"dataframe\">\n",
       "  <thead>\n",
       "    <tr style=\"text-align: right;\">\n",
       "      <th></th>\n",
       "      <th>Month</th>\n",
       "      <th>Passengers</th>\n",
       "      <th>year</th>\n",
       "      <th>month</th>\n",
       "    </tr>\n",
       "  </thead>\n",
       "  <tbody>\n",
       "    <tr>\n",
       "      <th>0</th>\n",
       "      <td>1995-01-01</td>\n",
       "      <td>112</td>\n",
       "      <td>1995</td>\n",
       "      <td>Jan</td>\n",
       "    </tr>\n",
       "    <tr>\n",
       "      <th>1</th>\n",
       "      <td>1995-02-01</td>\n",
       "      <td>118</td>\n",
       "      <td>1995</td>\n",
       "      <td>Feb</td>\n",
       "    </tr>\n",
       "    <tr>\n",
       "      <th>2</th>\n",
       "      <td>1995-03-01</td>\n",
       "      <td>132</td>\n",
       "      <td>1995</td>\n",
       "      <td>Mar</td>\n",
       "    </tr>\n",
       "    <tr>\n",
       "      <th>3</th>\n",
       "      <td>1995-04-01</td>\n",
       "      <td>129</td>\n",
       "      <td>1995</td>\n",
       "      <td>Apr</td>\n",
       "    </tr>\n",
       "    <tr>\n",
       "      <th>4</th>\n",
       "      <td>1995-05-01</td>\n",
       "      <td>121</td>\n",
       "      <td>1995</td>\n",
       "      <td>May</td>\n",
       "    </tr>\n",
       "    <tr>\n",
       "      <th>...</th>\n",
       "      <td>...</td>\n",
       "      <td>...</td>\n",
       "      <td>...</td>\n",
       "      <td>...</td>\n",
       "    </tr>\n",
       "    <tr>\n",
       "      <th>91</th>\n",
       "      <td>2002-08-01</td>\n",
       "      <td>405</td>\n",
       "      <td>2002</td>\n",
       "      <td>Aug</td>\n",
       "    </tr>\n",
       "    <tr>\n",
       "      <th>92</th>\n",
       "      <td>2002-09-01</td>\n",
       "      <td>355</td>\n",
       "      <td>2002</td>\n",
       "      <td>Sep</td>\n",
       "    </tr>\n",
       "    <tr>\n",
       "      <th>93</th>\n",
       "      <td>2002-10-01</td>\n",
       "      <td>306</td>\n",
       "      <td>2002</td>\n",
       "      <td>Oct</td>\n",
       "    </tr>\n",
       "    <tr>\n",
       "      <th>94</th>\n",
       "      <td>2002-11-01</td>\n",
       "      <td>271</td>\n",
       "      <td>2002</td>\n",
       "      <td>Nov</td>\n",
       "    </tr>\n",
       "    <tr>\n",
       "      <th>95</th>\n",
       "      <td>2002-12-01</td>\n",
       "      <td>306</td>\n",
       "      <td>2002</td>\n",
       "      <td>Dec</td>\n",
       "    </tr>\n",
       "  </tbody>\n",
       "</table>\n",
       "<p>96 rows × 4 columns</p>\n",
       "</div>"
      ],
      "text/plain": [
       "        Month  Passengers  year month\n",
       "0  1995-01-01         112  1995   Jan\n",
       "1  1995-02-01         118  1995   Feb\n",
       "2  1995-03-01         132  1995   Mar\n",
       "3  1995-04-01         129  1995   Apr\n",
       "4  1995-05-01         121  1995   May\n",
       "..        ...         ...   ...   ...\n",
       "91 2002-08-01         405  2002   Aug\n",
       "92 2002-09-01         355  2002   Sep\n",
       "93 2002-10-01         306  2002   Oct\n",
       "94 2002-11-01         271  2002   Nov\n",
       "95 2002-12-01         306  2002   Dec\n",
       "\n",
       "[96 rows x 4 columns]"
      ]
     },
     "execution_count": 8,
     "metadata": {},
     "output_type": "execute_result"
    }
   ],
   "source": [
    "Airlines_Data[\"year\"]=Airlines_Data.Month.dt.strftime(\"%Y\")\n",
    "Airlines_Data[\"month\"]=Airlines_Data.Month.dt.strftime(\"%b\")\n",
    "Airlines_Data"
   ]
  },
  {
   "cell_type": "code",
   "execution_count": 9,
   "id": "182b98dd",
   "metadata": {},
   "outputs": [],
   "source": [
    "Airlines_Data_Dumy = pd.get_dummies(Airlines_Data[\"month\"])"
   ]
  },
  {
   "cell_type": "code",
   "execution_count": 10,
   "id": "ed519d6a",
   "metadata": {},
   "outputs": [],
   "source": [
    "lst = list(range(1,97))\n",
    "Airlines_Data1 = pd.DataFrame(lst,columns=[\"t\"])"
   ]
  },
  {
   "cell_type": "code",
   "execution_count": 12,
   "id": "1a66d892",
   "metadata": {},
   "outputs": [],
   "source": [
    "lst = list(range(1,97))\n",
    "Airlines_Data2 =pd.DataFrame(lst,columns=[\"t_square\"])\n",
    "Airlines_Data3 = Airlines_Data2**2."
   ]
  },
  {
   "cell_type": "code",
   "execution_count": 14,
   "id": "6219d912",
   "metadata": {},
   "outputs": [
    {
     "data": {
      "text/html": [
       "<div>\n",
       "<style scoped>\n",
       "    .dataframe tbody tr th:only-of-type {\n",
       "        vertical-align: middle;\n",
       "    }\n",
       "\n",
       "    .dataframe tbody tr th {\n",
       "        vertical-align: top;\n",
       "    }\n",
       "\n",
       "    .dataframe thead th {\n",
       "        text-align: right;\n",
       "    }\n",
       "</style>\n",
       "<table border=\"1\" class=\"dataframe\">\n",
       "  <thead>\n",
       "    <tr style=\"text-align: right;\">\n",
       "      <th></th>\n",
       "      <th>Month</th>\n",
       "      <th>Passengers</th>\n",
       "      <th>year</th>\n",
       "      <th>month</th>\n",
       "      <th>log_Passengers</th>\n",
       "    </tr>\n",
       "  </thead>\n",
       "  <tbody>\n",
       "    <tr>\n",
       "      <th>0</th>\n",
       "      <td>1995-01-01</td>\n",
       "      <td>112</td>\n",
       "      <td>1995</td>\n",
       "      <td>Jan</td>\n",
       "      <td>4.718499</td>\n",
       "    </tr>\n",
       "    <tr>\n",
       "      <th>1</th>\n",
       "      <td>1995-02-01</td>\n",
       "      <td>118</td>\n",
       "      <td>1995</td>\n",
       "      <td>Feb</td>\n",
       "      <td>4.770685</td>\n",
       "    </tr>\n",
       "    <tr>\n",
       "      <th>2</th>\n",
       "      <td>1995-03-01</td>\n",
       "      <td>132</td>\n",
       "      <td>1995</td>\n",
       "      <td>Mar</td>\n",
       "      <td>4.882802</td>\n",
       "    </tr>\n",
       "    <tr>\n",
       "      <th>3</th>\n",
       "      <td>1995-04-01</td>\n",
       "      <td>129</td>\n",
       "      <td>1995</td>\n",
       "      <td>Apr</td>\n",
       "      <td>4.859812</td>\n",
       "    </tr>\n",
       "    <tr>\n",
       "      <th>4</th>\n",
       "      <td>1995-05-01</td>\n",
       "      <td>121</td>\n",
       "      <td>1995</td>\n",
       "      <td>May</td>\n",
       "      <td>4.795791</td>\n",
       "    </tr>\n",
       "    <tr>\n",
       "      <th>...</th>\n",
       "      <td>...</td>\n",
       "      <td>...</td>\n",
       "      <td>...</td>\n",
       "      <td>...</td>\n",
       "      <td>...</td>\n",
       "    </tr>\n",
       "    <tr>\n",
       "      <th>91</th>\n",
       "      <td>2002-08-01</td>\n",
       "      <td>405</td>\n",
       "      <td>2002</td>\n",
       "      <td>Aug</td>\n",
       "      <td>6.003887</td>\n",
       "    </tr>\n",
       "    <tr>\n",
       "      <th>92</th>\n",
       "      <td>2002-09-01</td>\n",
       "      <td>355</td>\n",
       "      <td>2002</td>\n",
       "      <td>Sep</td>\n",
       "      <td>5.872118</td>\n",
       "    </tr>\n",
       "    <tr>\n",
       "      <th>93</th>\n",
       "      <td>2002-10-01</td>\n",
       "      <td>306</td>\n",
       "      <td>2002</td>\n",
       "      <td>Oct</td>\n",
       "      <td>5.723585</td>\n",
       "    </tr>\n",
       "    <tr>\n",
       "      <th>94</th>\n",
       "      <td>2002-11-01</td>\n",
       "      <td>271</td>\n",
       "      <td>2002</td>\n",
       "      <td>Nov</td>\n",
       "      <td>5.602119</td>\n",
       "    </tr>\n",
       "    <tr>\n",
       "      <th>95</th>\n",
       "      <td>2002-12-01</td>\n",
       "      <td>306</td>\n",
       "      <td>2002</td>\n",
       "      <td>Dec</td>\n",
       "      <td>5.723585</td>\n",
       "    </tr>\n",
       "  </tbody>\n",
       "</table>\n",
       "<p>96 rows × 5 columns</p>\n",
       "</div>"
      ],
      "text/plain": [
       "        Month  Passengers  year month  log_Passengers\n",
       "0  1995-01-01         112  1995   Jan        4.718499\n",
       "1  1995-02-01         118  1995   Feb        4.770685\n",
       "2  1995-03-01         132  1995   Mar        4.882802\n",
       "3  1995-04-01         129  1995   Apr        4.859812\n",
       "4  1995-05-01         121  1995   May        4.795791\n",
       "..        ...         ...   ...   ...             ...\n",
       "91 2002-08-01         405  2002   Aug        6.003887\n",
       "92 2002-09-01         355  2002   Sep        5.872118\n",
       "93 2002-10-01         306  2002   Oct        5.723585\n",
       "94 2002-11-01         271  2002   Nov        5.602119\n",
       "95 2002-12-01         306  2002   Dec        5.723585\n",
       "\n",
       "[96 rows x 5 columns]"
      ]
     },
     "execution_count": 14,
     "metadata": {},
     "output_type": "execute_result"
    }
   ],
   "source": [
    "X1 = Airlines_Data[\"Passengers\"]\n",
    "Airlines_Data[\"log_Passengers\"] = np.log(X1)\n",
    "Airlines_Data"
   ]
  },
  {
   "cell_type": "code",
   "execution_count": 16,
   "id": "f54d1614",
   "metadata": {},
   "outputs": [
    {
     "data": {
      "text/plain": [
       "Index(['Month', 'Passengers', 'year', 'month', 'log_Passengers', 'Apr', 'Aug',\n",
       "       'Dec', 'Feb', 'Jan', 'Jul', 'Jun', 'Mar', 'May', 'Nov', 'Oct', 'Sep',\n",
       "       't', 't_square'],\n",
       "      dtype='object')"
      ]
     },
     "execution_count": 16,
     "metadata": {},
     "output_type": "execute_result"
    }
   ],
   "source": [
    "Airlines_Data = pd.concat([Airlines_Data,Airlines_Data_Dumy,Airlines_Data1,Airlines_Data3],axis=1)\n",
    "Airlines_Data\n",
    "Airlines_Data.columns"
   ]
  },
  {
   "cell_type": "code",
   "execution_count": 17,
   "id": "4cf112b8",
   "metadata": {},
   "outputs": [
    {
     "data": {
      "text/plain": [
       "array([[<Axes: title={'center': 'Month'}>,\n",
       "        <Axes: title={'center': 'Passengers'}>,\n",
       "        <Axes: title={'center': 'log_Passengers'}>,\n",
       "        <Axes: title={'center': 'Apr'}>],\n",
       "       [<Axes: title={'center': 'Aug'}>, <Axes: title={'center': 'Dec'}>,\n",
       "        <Axes: title={'center': 'Feb'}>, <Axes: title={'center': 'Jan'}>],\n",
       "       [<Axes: title={'center': 'Jul'}>, <Axes: title={'center': 'Jun'}>,\n",
       "        <Axes: title={'center': 'Mar'}>, <Axes: title={'center': 'May'}>],\n",
       "       [<Axes: title={'center': 'Nov'}>, <Axes: title={'center': 'Oct'}>,\n",
       "        <Axes: title={'center': 'Sep'}>, <Axes: title={'center': 't'}>],\n",
       "       [<Axes: title={'center': 't_square'}>, <Axes: >, <Axes: >,\n",
       "        <Axes: >]], dtype=object)"
      ]
     },
     "execution_count": 17,
     "metadata": {},
     "output_type": "execute_result"
    },
    {
     "data": {
      "image/png": "[encoded data removed]",
      "text/plain": [
       "<Figure size 640x480 with 1 Axes>"
      ]
     },
     "metadata": {},
     "output_type": "display_data"
    },
    {
     "data": {
      "image/png": "[encoded data removed]",
      "text/plain": [
       "<Figure size 640x480 with 20 Axes>"
      ]
     },
     "metadata": {},
     "output_type": "display_data"
    }
   ],
   "source": [
    "Airlines_Data[\"Passengers\"].plot()\n",
    "Airlines_Data.boxplot(vert=False)\n",
    "Airlines_Data.hist()"
   ]
  },
  {
   "cell_type": "code",
   "execution_count": 19,
   "id": "57c3e8f4",
   "metadata": {},
   "outputs": [],
   "source": [
    "Train = Airlines_Data.head(88)\n",
    "Test = Airlines_Data.tail(8)"
   ]
  },
  {
   "cell_type": "code",
   "execution_count": 20,
   "id": "2bcff2e7",
   "metadata": {},
   "outputs": [
    {
     "data": {
      "text/plain": [
       "45.75000000000108"
      ]
     },
     "execution_count": 20,
     "metadata": {},
     "output_type": "execute_result"
    }
   ],
   "source": [
    "import statsmodels.formula.api as smf\n",
    "linear_model=smf.ols('Passengers~year',data=Train).fit()\n",
    "pred_linear=pd.Series(linear_model.predict(pd.DataFrame(Test['year'])))\n",
    "rmse_linear=np.sqrt(np.mean(np.array(Test['Passengers'])-np.array(pred_linear))**2)\n",
    "rmse_linear"
   ]
  },
  {
   "cell_type": "code",
   "execution_count": 21,
   "id": "3afa7f06",
   "metadata": {},
   "outputs": [
    {
     "data": {
      "text/plain": [
       "66.63084737003285"
      ]
     },
     "execution_count": 21,
     "metadata": {},
     "output_type": "execute_result"
    }
   ],
   "source": [
    "import statsmodels.formula.api as smf\n",
    "EXP=smf.ols('log_Passengers~year',data=Train).fit()\n",
    "pred_EXP=pd.Series(EXP.predict(Test['year']))\n",
    "rmse_EXP=np.sqrt(np.mean((np.array(Test['Passengers'])-np.array(np.exp(pred_EXP)))**2))\n",
    "rmse_EXP"
   ]
  },
  {
   "cell_type": "code",
   "execution_count": 22,
   "id": "d2931283",
   "metadata": {},
   "outputs": [
    {
     "data": {
      "text/plain": [
       "58.30476227447039"
      ]
     },
     "execution_count": 22,
     "metadata": {},
     "output_type": "execute_result"
    }
   ],
   "source": [
    "Quadratic = smf.ols(\"Passengers~t+t_square\",data=Train).fit()\n",
    "pred_quad=pd.Series(Quadratic.predict(Test[[\"t\",\"t_square\"]]))\n",
    "rmse_quad=np.sqrt(np.mean((np.array(Test[\"Passengers\"])-np.array(pred_quad))**2))\n",
    "rmse_quad"
   ]
  },
  {
   "cell_type": "code",
   "execution_count": 23,
   "id": "2ec66d24",
   "metadata": {},
   "outputs": [
    {
     "name": "stderr",
     "output_type": "stream",
     "text": [
      "C:\\Users\\gk521\\AppData\\Local\\Temp\\ipykernel_2876\\3243804510.py:3: RuntimeWarning: invalid value encountered in sqrt\n",
      "  rmse_add_sea=np.sqrt(np.mean((np.array(Test['Passengers'])-np.array(pred_add_sea)**2)))\n"
     ]
    },
    {
     "data": {
      "text/plain": [
       "nan"
      ]
     },
     "execution_count": 23,
     "metadata": {},
     "output_type": "execute_result"
    }
   ],
   "source": [
    "add_sea=smf.ols(\"Passengers~Jan+Feb+Mar+Apr+May+Jun+Jul+Aug+Sep+Oct+Nov+Dec\",data=Train).fit()\n",
    "pred_add_sea=pd.Series(add_sea.predict(Test[['Jan','Feb','Mar','Apr','May','Jun','Jul','Aug','Sep','Oct','Nov','Dec']]))\n",
    "rmse_add_sea=np.sqrt(np.mean((np.array(Test['Passengers'])-np.array(pred_add_sea)**2)))\n",
    "rmse_add_sea"
   ]
  },
  {
   "cell_type": "code",
   "execution_count": 24,
   "id": "5e0066b2",
   "metadata": {},
   "outputs": [
    {
     "name": "stderr",
     "output_type": "stream",
     "text": [
      "C:\\Users\\gk521\\AppData\\Local\\Temp\\ipykernel_2876\\918806156.py:3: RuntimeWarning: invalid value encountered in sqrt\n",
      "  rmse_add_sea_Quadratic=np.sqrt(np.mean((np.array(Test['Passengers'])-np.array(pred_add_sea_Quadratic)**2)))\n"
     ]
    },
    {
     "data": {
      "text/plain": [
       "nan"
      ]
     },
     "execution_count": 24,
     "metadata": {},
     "output_type": "execute_result"
    }
   ],
   "source": [
    "add_sea_Quadratic=smf.ols(\"Passengers~Jan+Feb+Mar+Apr+May+Jun+Jul+Aug+Sep+Oct+Nov+Dec\",data=Train).fit()\n",
    "pred_add_sea_Quadratic=pd.Series(add_sea_Quadratic.predict(Test[['Jan','Feb','Mar','Apr','May','Jun','Jul','Aug','Sep','Oct','Nov','Dec']]))\n",
    "rmse_add_sea_Quadratic=np.sqrt(np.mean((np.array(Test['Passengers'])-np.array(pred_add_sea_Quadratic)**2)))\n",
    "rmse_add_sea_Quadratic"
   ]
  },
  {
   "cell_type": "code",
   "execution_count": 25,
   "id": "527ea96c",
   "metadata": {},
   "outputs": [
    {
     "data": {
      "text/plain": [
       "148.4557727402547"
      ]
     },
     "execution_count": 25,
     "metadata": {},
     "output_type": "execute_result"
    }
   ],
   "source": [
    "Mul_sea=smf.ols(\"log_Passengers~Jan+Feb+Mar+Apr+May+Jun+Jul+Aug+Sep+Oct+Nov+Dec\",data=Train).fit()\n",
    "pred_Mul_sea=pd.Series(Mul_sea.predict(Test))\n",
    "rmse_Mul_sea=np.sqrt(np.mean((np.array(Test['Passengers'])-np.array(np.exp(pred_Mul_sea)))**2))\n",
    "rmse_Mul_sea"
   ]
  },
  {
   "cell_type": "code",
   "execution_count": 26,
   "id": "8e4b3a0c",
   "metadata": {},
   "outputs": [
    {
     "data": {
      "text/plain": [
       "148.4557727402547"
      ]
     },
     "execution_count": 26,
     "metadata": {},
     "output_type": "execute_result"
    }
   ],
   "source": [
    "Mul_add_sea=smf.ols(\"log_Passengers~t+Jan+Feb+Mar+Apr+May+Jun+Jul+Aug+Sep+Oct+Nov+Dec\",data=Train).fit()\n",
    "pred_Mul_add_sea=pd.Series(Mul_add_sea.predict(Test))\n",
    "rmse_Mul_add_sea=np.sqrt(np.mean((np.array(Test['Passengers'])-np.array(np.exp(pred_Mul_sea)))**2))\n",
    "rmse_Mul_add_sea"
   ]
  },
  {
   "cell_type": "code",
   "execution_count": 27,
   "id": "ab96389c",
   "metadata": {},
   "outputs": [],
   "source": [
    "data ={\"MODEL\":pd.Series([\"rmse_linear\",\"rmse_EXP\",\"rmse_quad\",\"rmse_add_sea\",\"rmse_add_sea_Quadratic\",\"rmse_Mul_sea\",\"rmse_Mul_add_sea\"])}\n",
    "data1 ={\"RMSE\":pd.Series([rmse_linear,rmse_EXP,rmse_quad,rmse_add_sea,rmse_add_sea_Quadratic,rmse_Mul_sea,rmse_Mul_add_sea])}"
   ]
  },
  {
   "cell_type": "code",
   "execution_count": 28,
   "id": "3f7e6f8d",
   "metadata": {},
   "outputs": [
    {
     "data": {
      "text/html": [
       "<div>\n",
       "<style scoped>\n",
       "    .dataframe tbody tr th:only-of-type {\n",
       "        vertical-align: middle;\n",
       "    }\n",
       "\n",
       "    .dataframe tbody tr th {\n",
       "        vertical-align: top;\n",
       "    }\n",
       "\n",
       "    .dataframe thead th {\n",
       "        text-align: right;\n",
       "    }\n",
       "</style>\n",
       "<table border=\"1\" class=\"dataframe\">\n",
       "  <thead>\n",
       "    <tr style=\"text-align: right;\">\n",
       "      <th></th>\n",
       "      <th>MODEL</th>\n",
       "      <th>RMSE</th>\n",
       "    </tr>\n",
       "  </thead>\n",
       "  <tbody>\n",
       "    <tr>\n",
       "      <th>0</th>\n",
       "      <td>rmse_linear</td>\n",
       "      <td>45.750000</td>\n",
       "    </tr>\n",
       "    <tr>\n",
       "      <th>1</th>\n",
       "      <td>rmse_EXP</td>\n",
       "      <td>66.630847</td>\n",
       "    </tr>\n",
       "    <tr>\n",
       "      <th>2</th>\n",
       "      <td>rmse_quad</td>\n",
       "      <td>58.304762</td>\n",
       "    </tr>\n",
       "    <tr>\n",
       "      <th>3</th>\n",
       "      <td>rmse_add_sea</td>\n",
       "      <td>NaN</td>\n",
       "    </tr>\n",
       "    <tr>\n",
       "      <th>4</th>\n",
       "      <td>rmse_add_sea_Quadratic</td>\n",
       "      <td>NaN</td>\n",
       "    </tr>\n",
       "    <tr>\n",
       "      <th>5</th>\n",
       "      <td>rmse_Mul_sea</td>\n",
       "      <td>148.455773</td>\n",
       "    </tr>\n",
       "    <tr>\n",
       "      <th>6</th>\n",
       "      <td>rmse_Mul_add_sea</td>\n",
       "      <td>148.455773</td>\n",
       "    </tr>\n",
       "  </tbody>\n",
       "</table>\n",
       "</div>"
      ],
      "text/plain": [
       "                    MODEL        RMSE\n",
       "0             rmse_linear   45.750000\n",
       "1                rmse_EXP   66.630847\n",
       "2               rmse_quad   58.304762\n",
       "3            rmse_add_sea         NaN\n",
       "4  rmse_add_sea_Quadratic         NaN\n",
       "5            rmse_Mul_sea  148.455773\n",
       "6        rmse_Mul_add_sea  148.455773"
      ]
     },
     "execution_count": 28,
     "metadata": {},
     "output_type": "execute_result"
    }
   ],
   "source": [
    "a=pd.DataFrame(data)\n",
    "b=pd.DataFrame(data1)\n",
    "new=pd.concat([a,b],axis=1)\n",
    "new"
   ]
  },
  {
   "cell_type": "code",
   "execution_count": 30,
   "id": "fe704248",
   "metadata": {},
   "outputs": [],
   "source": [
    "model_full =  smf.ols(\"Passengers~t+t_square\",data = Airlines_Data).fit()"
   ]
  },
  {
   "cell_type": "code",
   "execution_count": 31,
   "id": "006cf5e0",
   "metadata": {},
   "outputs": [
    {
     "data": {
      "text/plain": [
       "Index(['month', 'Apr', 'Aug', 'Dec', 'Feb', 'Jan', 'Jul', 'Jun', 'Mar', 'May',\n",
       "       'Nov', 'Oct', 'Sep', 't', 't_square'],\n",
       "      dtype='object')"
      ]
     },
     "execution_count": 31,
     "metadata": {},
     "output_type": "execute_result"
    }
   ],
   "source": [
    "Airlines_Data.dtypes\n",
    "Airlines_Data.drop(Airlines_Data.columns[[0,2,1,4]],axis=1,inplace=True)\n",
    "Airlines_Data.columns"
   ]
  },
  {
   "cell_type": "code",
   "execution_count": 32,
   "id": "fe0046cb",
   "metadata": {},
   "outputs": [
    {
     "data": {
      "text/plain": [
       "0     119.158137\n",
       "1     120.460303\n",
       "2     121.784439\n",
       "3     123.130544\n",
       "4     124.498617\n",
       "         ...    \n",
       "91    327.618598\n",
       "92    330.919950\n",
       "93    334.243270\n",
       "94    337.588559\n",
       "95    340.955817\n",
       "Name: new_Passengers, Length: 96, dtype: float64"
      ]
     },
     "execution_count": 32,
     "metadata": {},
     "output_type": "execute_result"
    }
   ],
   "source": [
    "pred_new = pd.Series(model_full .predict(Airlines_Data))\n",
    "Airlines_Data[\"new_Passengers\"] = pd.Series(pred_new)\n",
    "Airlines_Data\n",
    "Airlines_Data.columns\n",
    "Airlines_Data[\"new_Passengers\"]"
   ]
  },
  {
   "cell_type": "markdown",
   "id": "eb68d31d",
   "metadata": {},
   "source": [
    "### CONCLUSION"
   ]
  },
  {
   "cell_type": "markdown",
   "id": "bd14c1a4",
   "metadata": {},
   "source": [
    "- The code demonstrates the application of various regression models for time series forecasting. However, it is important to explicitly state which model will be used for actual forecasting, based on the evaluation results. Additionally, consider adding some insights or analysis to provide context for the chosen model.\n",
    "\n",
    "+ Linear Model: A linear model using 'year' as a predictor is evaluated. The RMSE for this model is calculated.\n",
    "- Exponential Model: A model using the exponential of 'year' as a predictor is evaluated. The RMSE for this model is calculated.\n",
    "+ Quadratic Model: A quadratic model using 't' and 't_square' as predictors is evaluated. The RMSE for this model is calculated.\n",
    "- Seasonal Additive Models: Models using individual months as predictors are evaluated. \n",
    "+ The RMSE values for both additive and quadratic versions are calculated.\n",
    "- Seasonal Multiplicative Models: Models using log-transformed 'Passengers' with months as predictors are evaluated. \n",
    "+ The RMSE values for both additive and quadratic versions are calculated."
   ]
  },
  {
   "cell_type": "markdown",
   "id": "5079ad4f",
   "metadata": {},
   "source": [
    "### Thank You!"
   ]
  }
 ],
 "metadata": {
  "kernelspec": {
   "display_name": "Python 3 (ipykernel)",
   "language": "python",
   "name": "python3"
  },
  "language_info": {
   "codemirror_mode": {
    "name": "ipython",
    "version": 3
   },
   "file_extension": ".py",
   "mimetype": "text/x-python",
   "name": "python",
   "nbconvert_exporter": "python",
   "pygments_lexer": "ipython3",
   "version": "3.10.9"
  }
 },
 "nbformat": 4,
 "nbformat_minor": 5
}
